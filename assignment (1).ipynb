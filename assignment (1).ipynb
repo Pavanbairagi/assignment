{
 "cells": [
  {
   "cell_type": "code",
   "execution_count": 1,
   "id": "40b8a3b3-b994-407b-9929-b5e549521124",
   "metadata": {},
   "outputs": [],
   "source": [
    "\n",
    "## Q1. Create one variable containing following type of data:"
   ]
  },
  {
   "cell_type": "code",
   "execution_count": 2,
   "id": "b473f917-dc46-46de-9f41-7b0d79a2a7a9",
   "metadata": {},
   "outputs": [],
   "source": [
    "#string"
   ]
  },
  {
   "cell_type": "code",
   "execution_count": 6,
   "id": "d0a1c3ef-c1f8-4d72-834f-e192a01813f0",
   "metadata": {},
   "outputs": [],
   "source": [
    "a = \"Anamika\""
   ]
  },
  {
   "cell_type": "code",
   "execution_count": 5,
   "id": "de224df2-2c24-4175-9e10-2f9e63705e86",
   "metadata": {},
   "outputs": [],
   "source": [
    "#list"
   ]
  },
  {
   "cell_type": "code",
   "execution_count": 9,
   "id": "62af0818-9901-4be4-a13e-e9cfdf5b4721",
   "metadata": {},
   "outputs": [],
   "source": [
    "l = [1,2,23,32,44,2234,\"pavan\",True,False,33]"
   ]
  },
  {
   "cell_type": "code",
   "execution_count": 10,
   "id": "b936ea0e-8523-4f34-a6c7-3a78db1c3084",
   "metadata": {},
   "outputs": [],
   "source": [
    "#float "
   ]
  },
  {
   "cell_type": "code",
   "execution_count": 11,
   "id": "2f654f38-d876-4706-8ac6-78a1729f6b55",
   "metadata": {},
   "outputs": [],
   "source": [
    "s = 44.44"
   ]
  },
  {
   "cell_type": "code",
   "execution_count": 13,
   "id": "3d202b9c-2024-45d3-85f8-96cad2c1c370",
   "metadata": {},
   "outputs": [],
   "source": [
    "#tuple"
   ]
  },
  {
   "cell_type": "code",
   "execution_count": 15,
   "id": "c47d9e06-002f-4579-b676-a0aaab64f733",
   "metadata": {},
   "outputs": [],
   "source": [
    "tuple = [232,2323,3,\"car\",\"bike\",\"aroplane\",True,False]"
   ]
  },
  {
   "cell_type": "code",
   "execution_count": 16,
   "id": "4cf17740-58f0-4af1-9011-2d01ab601121",
   "metadata": {},
   "outputs": [],
   "source": [
    "#Q2. Given are some following variables containing data:"
   ]
  },
  {
   "cell_type": "code",
   "execution_count": 18,
   "id": "efa13d2f-bd86-439a-952b-a4267a36fac3",
   "metadata": {},
   "outputs": [],
   "source": [
    "var1 = ''"
   ]
  },
  {
   "cell_type": "code",
   "execution_count": 19,
   "id": "8ff21cc9-7634-45d9-ac97-a2ab90d48f8b",
   "metadata": {},
   "outputs": [
    {
     "data": {
      "text/plain": [
       "str"
      ]
     },
     "execution_count": 19,
     "metadata": {},
     "output_type": "execute_result"
    }
   ],
   "source": [
    "type(var1)"
   ]
  },
  {
   "cell_type": "code",
   "execution_count": 30,
   "id": "0e43d62a-3f2d-4dde-9582-a4ba036f857d",
   "metadata": {},
   "outputs": [],
   "source": [
    "var2 = '[ DS , ML , Python]'\n"
   ]
  },
  {
   "cell_type": "code",
   "execution_count": 31,
   "id": "00bb841c-6d09-456d-a79b-96b9b103b398",
   "metadata": {},
   "outputs": [
    {
     "data": {
      "text/plain": [
       "str"
      ]
     },
     "execution_count": 31,
     "metadata": {},
     "output_type": "execute_result"
    }
   ],
   "source": [
    "type(var2)"
   ]
  },
  {
   "cell_type": "code",
   "execution_count": 32,
   "id": "b99fb8af-0780-4844-a95d-80cc1c586bb3",
   "metadata": {},
   "outputs": [],
   "source": [
    "var3 = ['DS','ML','python']"
   ]
  },
  {
   "cell_type": "code",
   "execution_count": 33,
   "id": "c92e1d6f-4fdf-45bc-95f2-8ee4cc13398c",
   "metadata": {},
   "outputs": [
    {
     "data": {
      "text/plain": [
       "list"
      ]
     },
     "execution_count": 33,
     "metadata": {},
     "output_type": "execute_result"
    }
   ],
   "source": [
    "type(var3)"
   ]
  },
  {
   "cell_type": "code",
   "execution_count": 25,
   "id": "a09fafdb-d04f-4dca-a2ef-91558a5a7b36",
   "metadata": {},
   "outputs": [],
   "source": [
    "var4 = 1"
   ]
  },
  {
   "cell_type": "code",
   "execution_count": 26,
   "id": "60c71dde-92a0-459f-8f7f-453a63344915",
   "metadata": {},
   "outputs": [
    {
     "data": {
      "text/plain": [
       "int"
      ]
     },
     "execution_count": 26,
     "metadata": {},
     "output_type": "execute_result"
    }
   ],
   "source": [
    "type(var4)"
   ]
  },
  {
   "cell_type": "code",
   "execution_count": null,
   "id": "d8839f06-8af8-411e-92a9-6a99128c7a93",
   "metadata": {},
   "outputs": [],
   "source": [
    "#Q3. Explain the use of the following operators using an example:"
   ]
  },
  {
   "cell_type": "code",
   "execution_count": 34,
   "id": "8e71ad40-79a3-4fc9-b957-254c2d0266bc",
   "metadata": {},
   "outputs": [
    {
     "name": "stdout",
     "output_type": "stream",
     "text": [
      "3.3333333333333335\n"
     ]
    }
   ],
   "source": [
    "result = 10 / 3\n",
    "print(result)"
   ]
  },
  {
   "cell_type": "code",
   "execution_count": 35,
   "id": "3185f4c0-3922-45ee-b154-e2ad7e6da77a",
   "metadata": {},
   "outputs": [
    {
     "name": "stdout",
     "output_type": "stream",
     "text": [
      "1\n"
     ]
    }
   ],
   "source": [
    "remainder = 10 % 3\n",
    "print(remainder)"
   ]
  },
  {
   "cell_type": "code",
   "execution_count": 36,
   "id": "78d0cfa3-f65a-4b46-84a4-59126d8afa08",
   "metadata": {},
   "outputs": [
    {
     "name": "stdout",
     "output_type": "stream",
     "text": [
      "3\n"
     ]
    }
   ],
   "source": [
    "result = 10 // 3\n",
    "print(result)"
   ]
  },
  {
   "cell_type": "code",
   "execution_count": 37,
   "id": "1d59f10c-5aa2-43d1-b32e-cfb1cdfdbf51",
   "metadata": {},
   "outputs": [
    {
     "name": "stdout",
     "output_type": "stream",
     "text": [
      "8\n"
     ]
    }
   ],
   "source": [
    "result = 2 ** 3\n",
    "print(result)"
   ]
  },
  {
   "cell_type": "code",
   "execution_count": 38,
   "id": "e5623b93-0339-4bf9-b6d5-e0cd6107aa20",
   "metadata": {},
   "outputs": [],
   "source": [
    "##Q4. Create a list of length 10 of your choice containing multiple types of data. Using for loop print the element and its data type."
   ]
  },
  {
   "cell_type": "code",
   "execution_count": 41,
   "id": "4b936baa-dd01-4414-8911-f600657297fe",
   "metadata": {},
   "outputs": [
    {
     "name": "stdout",
     "output_type": "stream",
     "text": [
      "<class 'int'>\n",
      "<class 'int'>\n",
      "<class 'int'>\n",
      "<class 'int'>\n",
      "<class 'int'>\n",
      "<class 'float'>\n",
      "<class 'str'>\n",
      "<class 'bool'>\n",
      "<class 'bool'>\n",
      "<class 'float'>\n"
     ]
    }
   ],
   "source": [
    "my_list = [1,3,323,232,3233,7.77,\"pavan\",True,False,888.888]\n",
    "for i in my_list:\n",
    "    print(type(i))"
   ]
  },
  {
   "cell_type": "code",
   "execution_count": 42,
   "id": "70b9b4d4-b1c6-4cdc-9457-c42c2a9f9c47",
   "metadata": {},
   "outputs": [],
   "source": [
    "#Que.5Using a while loop, verify if the number A is purely divisible by number B and if so then how many times it can be divisible."
   ]
  },
  {
   "cell_type": "code",
   "execution_count": 47,
   "id": "f861c5c8-352c-438a-9761-44a66b463522",
   "metadata": {},
   "outputs": [
    {
     "name": "stdin",
     "output_type": "stream",
     "text": [
      "Enter the number A:  77\n",
      "Enter the number B:  88\n"
     ]
    },
    {
     "name": "stdout",
     "output_type": "stream",
     "text": [
      "88 is not a divisor of the original number.\n"
     ]
    }
   ],
   "source": [
    "# Input the values of A and B\n",
    "A = int(input(\"Enter the number A: \"))\n",
    "B = int(input(\"Enter the number B: \"))\n",
    "\n",
    "# Initialize a count variable to keep track of how many times A can be divided by B\n",
    "count = 0\n",
    "\n",
    "# Use a while loop to check divisibility and count\n",
    "while A % B == 0:\n",
    "    A = A // B  # Divide A by B and update A\n",
    "    count += 1   # Increment the count\n",
    "\n",
    "# Check if A becomes 1, which means it was purely divisible by B\n",
    "if A == 1:\n",
    "    print(f\"{count} times purely divisible by {B}\")\n",
    "else:\n",
    "    print(f\"{B} is not a divisor of the original number.\")\n",
    "\n"
   ]
  },
  {
   "cell_type": "code",
   "execution_count": 48,
   "id": "2d6bf7d1-ff6c-4c94-bfa0-dda78fc6b173",
   "metadata": {},
   "outputs": [],
   "source": [
    "#Que.6 Create a list containing 25 int type data. Using for loop and if-else condition print if the element isdivisible by 3 or not."
   ]
  },
  {
   "cell_type": "code",
   "execution_count": 49,
   "id": "a0db7235-bb6e-43f5-bc1d-ab9c84dc4fa2",
   "metadata": {},
   "outputs": [
    {
     "ename": "IndentationError",
     "evalue": "unexpected indent (2604444403.py, line 2)",
     "output_type": "error",
     "traceback": [
      "\u001b[0;36m  Cell \u001b[0;32mIn[49], line 2\u001b[0;36m\u001b[0m\n\u001b[0;31m    for i in l:\u001b[0m\n\u001b[0m    ^\u001b[0m\n\u001b[0;31mIndentationError\u001b[0m\u001b[0;31m:\u001b[0m unexpected indent\n"
     ]
    }
   ],
   "source": [
    "l = [10,12,1212,112,112,22,32,221,121,212,122,1212,454,54,54,34,343,344,5,5,543,433,5554,433,6353]\n",
    " for i in l:\n",
    "        if i % 3 == 0:\n",
    "            print(\"{i} is divisible by 3\")\n",
    "        else:\n",
    "            print(\"{i} is not divisible by 3\")"
   ]
  },
  {
   "cell_type": "code",
   "execution_count": null,
   "id": "db361300-2037-41c0-aa97-8870ed3a03d2",
   "metadata": {},
   "outputs": [],
   "source": [
    "##Q7. What do you understand about mutable and immutable data types? Give examples for both showingthis property."
   ]
  },
  {
   "cell_type": "code",
   "execution_count": 50,
   "id": "8884f877-e8b7-4ee9-a466-9c44846cd59e",
   "metadata": {},
   "outputs": [],
   "source": [
    "##immutable "
   ]
  },
  {
   "cell_type": "code",
   "execution_count": 51,
   "id": "0cbcfe12-24df-4222-acd1-fec4f59f943c",
   "metadata": {},
   "outputs": [
    {
     "name": "stdout",
     "output_type": "stream",
     "text": [
      "Hello\n",
      "Hello, World!\n"
     ]
    }
   ],
   "source": [
    "original_string = \"Hello\"\n",
    "modified_string = original_string + \", World!\"  # This creates a new string\n",
    "print(original_string)  # Output: \"Hello\" (original_string is unchanged)\n",
    "print(modified_string)  # Output: \"Hello, World!\" (a new string is created)\n"
   ]
  },
  {
   "cell_type": "code",
   "execution_count": 52,
   "id": "4b64b72a-3957-4b29-8d81-7dee358791b3",
   "metadata": {},
   "outputs": [],
   "source": [
    "##mutable"
   ]
  },
  {
   "cell_type": "code",
   "execution_count": 53,
   "id": "60592ef8-3623-4d0f-bdf2-e82ca2b87ebf",
   "metadata": {},
   "outputs": [
    {
     "name": "stdout",
     "output_type": "stream",
     "text": [
      "[1, 2, 3, 4]\n"
     ]
    }
   ],
   "source": [
    "original_list = [1, 2, 3]\n",
    "original_list.append(4)  # Modifies the original list\n",
    "print(original_list)  # Output: [1, 2, 3, 4] (original_list is modified)\n"
   ]
  },
  {
   "cell_type": "code",
   "execution_count": null,
   "id": "7b36e17a-5c74-4a72-bbc1-55090d051602",
   "metadata": {},
   "outputs": [],
   "source": []
  }
 ],
 "metadata": {
  "kernelspec": {
   "display_name": "Python 3 (ipykernel)",
   "language": "python",
   "name": "python3"
  },
  "language_info": {
   "codemirror_mode": {
    "name": "ipython",
    "version": 3
   },
   "file_extension": ".py",
   "mimetype": "text/x-python",
   "name": "python",
   "nbconvert_exporter": "python",
   "pygments_lexer": "ipython3",
   "version": "3.10.8"
  }
 },
 "nbformat": 4,
 "nbformat_minor": 5
}
